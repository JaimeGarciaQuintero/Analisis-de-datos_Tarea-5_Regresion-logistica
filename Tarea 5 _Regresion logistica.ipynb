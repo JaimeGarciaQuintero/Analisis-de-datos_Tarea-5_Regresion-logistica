{
 "cells": [
  {
   "cell_type": "code",
   "execution_count": 70,
   "id": "a472a2e3",
   "metadata": {},
   "outputs": [],
   "source": [
    "import pandas as pd # Manejo y análisis de estructuras de datos\n",
    "import numpy as np # Cálculo numérico y el análisis de datos\n",
    "import seaborn as sns # Creación gráficos estadísticos\n",
    "import matplotlib.pyplot as plt # Creación de gráficos en dos dimensiones\n",
    "\n",
    "# librerías de para implementar modelos de ciencia de datos\n",
    "from sklearn import metrics\n",
    "from sklearn.model_selection import train_test_split\n",
    "from sklearn.linear_model import LogisticRegression #Libreria para regresion logistica\n",
    "from sklearn.linear_model import LinearRegression # Libreria para regresion Lineal\n",
    "from sklearn.metrics import classification_report, confusion_matrix"
   ]
  },
  {
   "cell_type": "code",
   "execution_count": 71,
   "id": "370e827f",
   "metadata": {},
   "outputs": [],
   "source": [
    "ruta = r'D:\\PERSONAL\\UNIVERSIDAD\\INGENIERIA DE SISTEMAS\\2024\\2024-1\\ÁNALISIS DE DATOS\\TAREA 5\\Titanic-Dataset.csv'"
   ]
  },
  {
   "cell_type": "code",
   "execution_count": 72,
   "id": "507d5a3d",
   "metadata": {},
   "outputs": [
    {
     "name": "stdout",
     "output_type": "stream",
     "text": [
      "D:\\PERSONAL\\UNIVERSIDAD\\INGENIERIA DE SISTEMAS\\2024\\2024-1\\ÁNALISIS DE DATOS\\TAREA 5\\Titanic-Dataset.csv\n"
     ]
    }
   ],
   "source": [
    "print (ruta)\n"
   ]
  },
  {
   "cell_type": "code",
   "execution_count": 73,
   "id": "24af3e11",
   "metadata": {},
   "outputs": [],
   "source": [
    "datos = pd.read_csv(ruta)"
   ]
  },
  {
   "cell_type": "code",
   "execution_count": 74,
   "id": "e42a8465",
   "metadata": {},
   "outputs": [
    {
     "name": "stdout",
     "output_type": "stream",
     "text": [
      "Número de registros vacios por columna:\n",
      "PassengerId      0\n",
      "Survived         0\n",
      "Pclass           0\n",
      "Name             0\n",
      "Sex              0\n",
      "Age            177\n",
      "SibSp            0\n",
      "Parch            0\n",
      "Ticket           0\n",
      "Fare             0\n",
      "Cabin          687\n",
      "Embarked         2\n",
      "dtype: int64\n"
     ]
    }
   ],
   "source": [
    "valores_vacios_por_columna = datos.isna().sum()\n",
    "print(\"Número de registros vacios por columna:\")\n",
    "print(valores_vacios_por_columna)"
   ]
  },
  {
   "cell_type": "markdown",
   "id": "c8d2a8e4",
   "metadata": {},
   "source": [
    "Encontramos que el dato de la columna Cabin (Cabina) no nos proporciona mucha informacion ya que el numero de vacios es muy alto\n",
    "por tal motivo se eliminará la columna. Tambien eliminaremos los registros que en Embarked está vacio."
   ]
  },
  {
   "cell_type": "code",
   "execution_count": 75,
   "id": "0547fc7d",
   "metadata": {},
   "outputs": [],
   "source": [
    "datos = datos.drop('Cabin', axis=1)\n",
    "datos = datos.dropna(subset=['Embarked'])"
   ]
  },
  {
   "cell_type": "markdown",
   "id": "3d1e943e",
   "metadata": {},
   "source": [
    "Para los registros con el campo edad se tomará el promedio dependiendo de su genero (Sex) si es hombre se poblará con edad promedio de hombres y si es mujer se poblará con el promedio de edad de las mujeres"
   ]
  },
  {
   "cell_type": "code",
   "execution_count": 76,
   "id": "889e4884",
   "metadata": {},
   "outputs": [
    {
     "name": "stdout",
     "output_type": "stream",
     "text": [
      "Promedio de edad de hombres: 30.72664459161148\n",
      "Promedio de edad de mujeres: 27.745173745173744\n"
     ]
    }
   ],
   "source": [
    "promedio_hombres = datos.loc[datos['Sex'] == 'male', 'Age'].mean()\n",
    "promedio_mujeres = datos.loc[datos['Sex'] == 'female', 'Age'].mean()\n",
    "datos.loc[(datos['Sex'] == 'male') & (datos['Age'].isnull()), ['Age']] = promedio_hombres\n",
    "datos.loc[(datos['Sex'] == 'female') & (datos['Age'].isnull()), ['Age']] = promedio_mujeres\n",
    "print(\"Promedio de edad de hombres:\", promedio_hombres)\n",
    "print(\"Promedio de edad de mujeres:\", promedio_mujeres)"
   ]
  },
  {
   "cell_type": "markdown",
   "id": "a0bc7ed3",
   "metadata": {},
   "source": [
    "Se verifica nuevamente para constatar que no se encuentran datos con registros vacios"
   ]
  },
  {
   "cell_type": "code",
   "execution_count": 77,
   "id": "e686fff6",
   "metadata": {},
   "outputs": [
    {
     "name": "stdout",
     "output_type": "stream",
     "text": [
      "Número de registros vacios por columna:\n",
      "PassengerId    0\n",
      "Survived       0\n",
      "Pclass         0\n",
      "Name           0\n",
      "Sex            0\n",
      "Age            0\n",
      "SibSp          0\n",
      "Parch          0\n",
      "Ticket         0\n",
      "Fare           0\n",
      "Embarked       0\n",
      "dtype: int64\n"
     ]
    }
   ],
   "source": [
    "valores_vacios_por_columna = datos.isna().sum()\n",
    "print(\"Número de registros vacios por columna:\")\n",
    "print(valores_vacios_por_columna)"
   ]
  },
  {
   "cell_type": "code",
   "execution_count": 67,
   "id": "83de8509",
   "metadata": {},
   "outputs": [
    {
     "data": {
      "text/html": [
       "<div>\n",
       "<style scoped>\n",
       "    .dataframe tbody tr th:only-of-type {\n",
       "        vertical-align: middle;\n",
       "    }\n",
       "\n",
       "    .dataframe tbody tr th {\n",
       "        vertical-align: top;\n",
       "    }\n",
       "\n",
       "    .dataframe thead th {\n",
       "        text-align: right;\n",
       "    }\n",
       "</style>\n",
       "<table border=\"1\" class=\"dataframe\">\n",
       "  <thead>\n",
       "    <tr style=\"text-align: right;\">\n",
       "      <th></th>\n",
       "      <th>PassengerId</th>\n",
       "      <th>Survived</th>\n",
       "      <th>Pclass</th>\n",
       "      <th>Name</th>\n",
       "      <th>Sex</th>\n",
       "      <th>Age</th>\n",
       "      <th>SibSp</th>\n",
       "      <th>Parch</th>\n",
       "      <th>Ticket</th>\n",
       "      <th>Fare</th>\n",
       "      <th>Embarked</th>\n",
       "    </tr>\n",
       "  </thead>\n",
       "  <tbody>\n",
       "    <tr>\n",
       "      <th>0</th>\n",
       "      <td>1</td>\n",
       "      <td>0</td>\n",
       "      <td>3</td>\n",
       "      <td>Braund, Mr. Owen Harris</td>\n",
       "      <td>male</td>\n",
       "      <td>22.000000</td>\n",
       "      <td>1</td>\n",
       "      <td>0</td>\n",
       "      <td>A/5 21171</td>\n",
       "      <td>7.2500</td>\n",
       "      <td>S</td>\n",
       "    </tr>\n",
       "    <tr>\n",
       "      <th>1</th>\n",
       "      <td>2</td>\n",
       "      <td>1</td>\n",
       "      <td>1</td>\n",
       "      <td>Cumings, Mrs. John Bradley (Florence Briggs Th...</td>\n",
       "      <td>female</td>\n",
       "      <td>38.000000</td>\n",
       "      <td>1</td>\n",
       "      <td>0</td>\n",
       "      <td>PC 17599</td>\n",
       "      <td>71.2833</td>\n",
       "      <td>C</td>\n",
       "    </tr>\n",
       "    <tr>\n",
       "      <th>2</th>\n",
       "      <td>3</td>\n",
       "      <td>1</td>\n",
       "      <td>3</td>\n",
       "      <td>Heikkinen, Miss. Laina</td>\n",
       "      <td>female</td>\n",
       "      <td>26.000000</td>\n",
       "      <td>0</td>\n",
       "      <td>0</td>\n",
       "      <td>STON/O2. 3101282</td>\n",
       "      <td>7.9250</td>\n",
       "      <td>S</td>\n",
       "    </tr>\n",
       "    <tr>\n",
       "      <th>3</th>\n",
       "      <td>4</td>\n",
       "      <td>1</td>\n",
       "      <td>1</td>\n",
       "      <td>Futrelle, Mrs. Jacques Heath (Lily May Peel)</td>\n",
       "      <td>female</td>\n",
       "      <td>35.000000</td>\n",
       "      <td>1</td>\n",
       "      <td>0</td>\n",
       "      <td>113803</td>\n",
       "      <td>53.1000</td>\n",
       "      <td>S</td>\n",
       "    </tr>\n",
       "    <tr>\n",
       "      <th>4</th>\n",
       "      <td>5</td>\n",
       "      <td>0</td>\n",
       "      <td>3</td>\n",
       "      <td>Allen, Mr. William Henry</td>\n",
       "      <td>male</td>\n",
       "      <td>35.000000</td>\n",
       "      <td>0</td>\n",
       "      <td>0</td>\n",
       "      <td>373450</td>\n",
       "      <td>8.0500</td>\n",
       "      <td>S</td>\n",
       "    </tr>\n",
       "    <tr>\n",
       "      <th>5</th>\n",
       "      <td>6</td>\n",
       "      <td>0</td>\n",
       "      <td>3</td>\n",
       "      <td>Moran, Mr. James</td>\n",
       "      <td>male</td>\n",
       "      <td>30.726645</td>\n",
       "      <td>0</td>\n",
       "      <td>0</td>\n",
       "      <td>330877</td>\n",
       "      <td>8.4583</td>\n",
       "      <td>Q</td>\n",
       "    </tr>\n",
       "    <tr>\n",
       "      <th>6</th>\n",
       "      <td>7</td>\n",
       "      <td>0</td>\n",
       "      <td>1</td>\n",
       "      <td>McCarthy, Mr. Timothy J</td>\n",
       "      <td>male</td>\n",
       "      <td>54.000000</td>\n",
       "      <td>0</td>\n",
       "      <td>0</td>\n",
       "      <td>17463</td>\n",
       "      <td>51.8625</td>\n",
       "      <td>S</td>\n",
       "    </tr>\n",
       "    <tr>\n",
       "      <th>7</th>\n",
       "      <td>8</td>\n",
       "      <td>0</td>\n",
       "      <td>3</td>\n",
       "      <td>Palsson, Master. Gosta Leonard</td>\n",
       "      <td>male</td>\n",
       "      <td>2.000000</td>\n",
       "      <td>3</td>\n",
       "      <td>1</td>\n",
       "      <td>349909</td>\n",
       "      <td>21.0750</td>\n",
       "      <td>S</td>\n",
       "    </tr>\n",
       "    <tr>\n",
       "      <th>8</th>\n",
       "      <td>9</td>\n",
       "      <td>1</td>\n",
       "      <td>3</td>\n",
       "      <td>Johnson, Mrs. Oscar W (Elisabeth Vilhelmina Berg)</td>\n",
       "      <td>female</td>\n",
       "      <td>27.000000</td>\n",
       "      <td>0</td>\n",
       "      <td>2</td>\n",
       "      <td>347742</td>\n",
       "      <td>11.1333</td>\n",
       "      <td>S</td>\n",
       "    </tr>\n",
       "    <tr>\n",
       "      <th>9</th>\n",
       "      <td>10</td>\n",
       "      <td>1</td>\n",
       "      <td>2</td>\n",
       "      <td>Nasser, Mrs. Nicholas (Adele Achem)</td>\n",
       "      <td>female</td>\n",
       "      <td>14.000000</td>\n",
       "      <td>1</td>\n",
       "      <td>0</td>\n",
       "      <td>237736</td>\n",
       "      <td>30.0708</td>\n",
       "      <td>C</td>\n",
       "    </tr>\n",
       "  </tbody>\n",
       "</table>\n",
       "</div>"
      ],
      "text/plain": [
       "   PassengerId  Survived  Pclass  \\\n",
       "0            1         0       3   \n",
       "1            2         1       1   \n",
       "2            3         1       3   \n",
       "3            4         1       1   \n",
       "4            5         0       3   \n",
       "5            6         0       3   \n",
       "6            7         0       1   \n",
       "7            8         0       3   \n",
       "8            9         1       3   \n",
       "9           10         1       2   \n",
       "\n",
       "                                                Name     Sex        Age  \\\n",
       "0                            Braund, Mr. Owen Harris    male  22.000000   \n",
       "1  Cumings, Mrs. John Bradley (Florence Briggs Th...  female  38.000000   \n",
       "2                             Heikkinen, Miss. Laina  female  26.000000   \n",
       "3       Futrelle, Mrs. Jacques Heath (Lily May Peel)  female  35.000000   \n",
       "4                           Allen, Mr. William Henry    male  35.000000   \n",
       "5                                   Moran, Mr. James    male  30.726645   \n",
       "6                            McCarthy, Mr. Timothy J    male  54.000000   \n",
       "7                     Palsson, Master. Gosta Leonard    male   2.000000   \n",
       "8  Johnson, Mrs. Oscar W (Elisabeth Vilhelmina Berg)  female  27.000000   \n",
       "9                Nasser, Mrs. Nicholas (Adele Achem)  female  14.000000   \n",
       "\n",
       "   SibSp  Parch            Ticket     Fare Embarked  \n",
       "0      1      0         A/5 21171   7.2500        S  \n",
       "1      1      0          PC 17599  71.2833        C  \n",
       "2      0      0  STON/O2. 3101282   7.9250        S  \n",
       "3      1      0            113803  53.1000        S  \n",
       "4      0      0            373450   8.0500        S  \n",
       "5      0      0            330877   8.4583        Q  \n",
       "6      0      0             17463  51.8625        S  \n",
       "7      3      1            349909  21.0750        S  \n",
       "8      0      2            347742  11.1333        S  \n",
       "9      1      0            237736  30.0708        C  "
      ]
     },
     "execution_count": 67,
     "metadata": {},
     "output_type": "execute_result"
    }
   ],
   "source": [
    "datos.head(10) # presento una muestra de los datos "
   ]
  },
  {
   "cell_type": "code",
   "execution_count": 19,
   "id": "9b4891d2",
   "metadata": {},
   "outputs": [
    {
     "data": {
      "text/html": [
       "<div>\n",
       "<style scoped>\n",
       "    .dataframe tbody tr th:only-of-type {\n",
       "        vertical-align: middle;\n",
       "    }\n",
       "\n",
       "    .dataframe tbody tr th {\n",
       "        vertical-align: top;\n",
       "    }\n",
       "\n",
       "    .dataframe thead th {\n",
       "        text-align: right;\n",
       "    }\n",
       "</style>\n",
       "<table border=\"1\" class=\"dataframe\">\n",
       "  <thead>\n",
       "    <tr style=\"text-align: right;\">\n",
       "      <th></th>\n",
       "      <th>PassengerId</th>\n",
       "      <th>Survived</th>\n",
       "      <th>Pclass</th>\n",
       "      <th>Age</th>\n",
       "      <th>SibSp</th>\n",
       "      <th>Parch</th>\n",
       "      <th>Fare</th>\n",
       "    </tr>\n",
       "  </thead>\n",
       "  <tbody>\n",
       "    <tr>\n",
       "      <th>count</th>\n",
       "      <td>183.000000</td>\n",
       "      <td>183.000000</td>\n",
       "      <td>183.000000</td>\n",
       "      <td>183.000000</td>\n",
       "      <td>183.000000</td>\n",
       "      <td>183.000000</td>\n",
       "      <td>183.000000</td>\n",
       "    </tr>\n",
       "    <tr>\n",
       "      <th>mean</th>\n",
       "      <td>455.366120</td>\n",
       "      <td>0.672131</td>\n",
       "      <td>1.191257</td>\n",
       "      <td>35.674426</td>\n",
       "      <td>0.464481</td>\n",
       "      <td>0.475410</td>\n",
       "      <td>78.682469</td>\n",
       "    </tr>\n",
       "    <tr>\n",
       "      <th>std</th>\n",
       "      <td>247.052476</td>\n",
       "      <td>0.470725</td>\n",
       "      <td>0.515187</td>\n",
       "      <td>15.643866</td>\n",
       "      <td>0.644159</td>\n",
       "      <td>0.754617</td>\n",
       "      <td>76.347843</td>\n",
       "    </tr>\n",
       "    <tr>\n",
       "      <th>min</th>\n",
       "      <td>2.000000</td>\n",
       "      <td>0.000000</td>\n",
       "      <td>1.000000</td>\n",
       "      <td>0.920000</td>\n",
       "      <td>0.000000</td>\n",
       "      <td>0.000000</td>\n",
       "      <td>0.000000</td>\n",
       "    </tr>\n",
       "    <tr>\n",
       "      <th>25%</th>\n",
       "      <td>263.500000</td>\n",
       "      <td>0.000000</td>\n",
       "      <td>1.000000</td>\n",
       "      <td>24.000000</td>\n",
       "      <td>0.000000</td>\n",
       "      <td>0.000000</td>\n",
       "      <td>29.700000</td>\n",
       "    </tr>\n",
       "    <tr>\n",
       "      <th>50%</th>\n",
       "      <td>457.000000</td>\n",
       "      <td>1.000000</td>\n",
       "      <td>1.000000</td>\n",
       "      <td>36.000000</td>\n",
       "      <td>0.000000</td>\n",
       "      <td>0.000000</td>\n",
       "      <td>57.000000</td>\n",
       "    </tr>\n",
       "    <tr>\n",
       "      <th>75%</th>\n",
       "      <td>676.000000</td>\n",
       "      <td>1.000000</td>\n",
       "      <td>1.000000</td>\n",
       "      <td>47.500000</td>\n",
       "      <td>1.000000</td>\n",
       "      <td>1.000000</td>\n",
       "      <td>90.000000</td>\n",
       "    </tr>\n",
       "    <tr>\n",
       "      <th>max</th>\n",
       "      <td>890.000000</td>\n",
       "      <td>1.000000</td>\n",
       "      <td>3.000000</td>\n",
       "      <td>80.000000</td>\n",
       "      <td>3.000000</td>\n",
       "      <td>4.000000</td>\n",
       "      <td>512.329200</td>\n",
       "    </tr>\n",
       "  </tbody>\n",
       "</table>\n",
       "</div>"
      ],
      "text/plain": [
       "       PassengerId    Survived      Pclass         Age       SibSp  \\\n",
       "count   183.000000  183.000000  183.000000  183.000000  183.000000   \n",
       "mean    455.366120    0.672131    1.191257   35.674426    0.464481   \n",
       "std     247.052476    0.470725    0.515187   15.643866    0.644159   \n",
       "min       2.000000    0.000000    1.000000    0.920000    0.000000   \n",
       "25%     263.500000    0.000000    1.000000   24.000000    0.000000   \n",
       "50%     457.000000    1.000000    1.000000   36.000000    0.000000   \n",
       "75%     676.000000    1.000000    1.000000   47.500000    1.000000   \n",
       "max     890.000000    1.000000    3.000000   80.000000    3.000000   \n",
       "\n",
       "            Parch        Fare  \n",
       "count  183.000000  183.000000  \n",
       "mean     0.475410   78.682469  \n",
       "std      0.754617   76.347843  \n",
       "min      0.000000    0.000000  \n",
       "25%      0.000000   29.700000  \n",
       "50%      0.000000   57.000000  \n",
       "75%      1.000000   90.000000  \n",
       "max      4.000000  512.329200  "
      ]
     },
     "execution_count": 19,
     "metadata": {},
     "output_type": "execute_result"
    }
   ],
   "source": [
    "datos.describe() # presento resumen estadistico de los datos con los columnas numericas."
   ]
  },
  {
   "cell_type": "code",
   "execution_count": 85,
   "id": "b152a6f9",
   "metadata": {},
   "outputs": [
    {
     "name": "stdout",
     "output_type": "stream",
     "text": [
      "El total de datos atípicos es 7\n"
     ]
    }
   ],
   "source": [
    "#Conteo de Datos Atípicos\n",
    "\n",
    "nivel_minimo=1\n",
    "nivel_maximo=80\n",
    "Total_Atipicos=((datos['Age']<nivel_minimo)|(datos['Age']>nivel_maximo)).sum()\n",
    "print(\"El total de datos atípicos es {}\".format(Total_Atipicos))"
   ]
  },
  {
   "cell_type": "code",
   "execution_count": 84,
   "id": "481cd22c",
   "metadata": {},
   "outputs": [
    {
     "data": {
      "text/plain": [
       "Text(0.5, 1.0, 'Identificación de Datos Faltantes y Atípicos')"
      ]
     },
     "execution_count": 84,
     "metadata": {},
     "output_type": "execute_result"
    },
    {
     "data": {
      "image/png": "[encoded data removed]",
      "text/plain": [
       "<Figure size 864x432 with 1 Axes>"
      ]
     },
     "metadata": {
      "needs_background": "light"
     },
     "output_type": "display_data"
    }
   ],
   "source": [
    "#Identificación de Datos Faltantes y Atípicos\n",
    "\n",
    "plt.figure(figsize=(12, 6))\n",
    "sns.boxplot(x=datos['Age'])\n",
    "plt.title('Identificación de Datos Faltantes y Atípicos', fontsize=10 )"
   ]
  },
  {
   "cell_type": "code",
   "execution_count": null,
   "id": "00b70332",
   "metadata": {},
   "outputs": [],
   "source": [
    "Segun la grafica se evidencian varios registros con valores atipicos que realemente no trataré como atipicos puesto que las edades\n",
    "pueden ser iguales a las que se señalan ( observo  varios bebés y varios mayores de 55 años ) por tal motivo solo  mostraré \n",
    "los datos de los pasajeros que se encuentran por fuera de los bigotes del diagrama de caja."
   ]
  },
  {
   "cell_type": "code",
   "execution_count": 88,
   "id": "38671ba0",
   "metadata": {},
   "outputs": [
    {
     "name": "stdout",
     "output_type": "stream",
     "text": [
      "El total de datos atípicos es 7\n",
      "Los PassengerId con valores atípicos y sus edades son:\n",
      "     PassengerId                             Name   Age\n",
      "78            79    Caldwell, Master. Alden Gates  0.83\n",
      "305          306   Allison, Master. Hudson Trevor  0.92\n",
      "469          470    Baclini, Miss. Helene Barbara  0.75\n",
      "644          645           Baclini, Miss. Eugenie  0.75\n",
      "755          756        Hamalainen, Master. Viljo  0.67\n",
      "803          804  Thomas, Master. Assad Alexander  0.42\n",
      "831          832  Richards, Master. George Sibley  0.83\n"
     ]
    }
   ],
   "source": [
    "nivel_minimo = 1\n",
    "nivel_maximo = 80\n",
    "atipicos = datos[(datos['Age'] < nivel_minimo) | (datos['Age'] > nivel_maximo)]\n",
    "Total_Atipicos = atipicos.shape[0]\n",
    "print(\"El total de datos atípicos es {}\".format(Total_Atipicos))\n",
    "print(\"Los PassengerId con valores atípicos y sus edades son:\")\n",
    "print(atipicos[['PassengerId','Name', 'Age']])"
   ]
  },
  {
   "cell_type": "markdown",
   "id": "8234c404",
   "metadata": {},
   "source": [
    "Realizo conteo segun el sexo y puerto de embarque "
   ]
  },
  {
   "cell_type": "code",
   "execution_count": 78,
   "id": "2c636f96",
   "metadata": {},
   "outputs": [
    {
     "name": "stdout",
     "output_type": "stream",
     "text": [
      "Cantidad de hombres y mujeres:\n",
      "male      577\n",
      "female    312\n",
      "Name: Sex, dtype: int64\n",
      "\n",
      "Cantidad de personas que embarcaron según el puerto:\n",
      "S    644\n",
      "C    168\n",
      "Q     77\n",
      "Name: Embarked, dtype: int64\n"
     ]
    }
   ],
   "source": [
    "conteo_sexo = datos['Sex'].value_counts()\n",
    "conteo_embarque = datos['Embarked'].value_counts()\n",
    "\n",
    "print(\"Cantidad de hombres y mujeres:\")\n",
    "print(conteo_sexo)\n",
    "\n",
    "print(\"\\nCantidad de personas que embarcaron según el puerto:\")\n",
    "print(conteo_embarque)"
   ]
  },
  {
   "cell_type": "code",
   "execution_count": 79,
   "id": "e5e55b07",
   "metadata": {},
   "outputs": [
    {
     "name": "stdout",
     "output_type": "stream",
     "text": [
      "Cantidad de Registros con cero en Age:  0\n",
      "Cantidad de Registros con cero en Sex:  0\n",
      "Cantidad de Registros con cero en Survived:  549\n",
      "Cantidad de Registros con cero en Pclass:  0\n",
      "Cantidad de Registros con cero en Fare:  15\n",
      "Cantidad de Registros con cero en Embarked:  0\n"
     ]
    }
   ],
   "source": [
    "\n",
    "print(\"Cantidad de Registros con cero en Age: \",datos['Age'].isin([0]).sum())\n",
    "print(\"Cantidad de Registros con cero en Sex: \",datos['Sex'].isin([0]).sum())\n",
    "print(\"Cantidad de Registros con cero en Survived: \",datos['Survived'].isin([0]).sum())\n",
    "print(\"Cantidad de Registros con cero en Pclass: \",datos['Pclass'].isin([0]).sum())\n",
    "print(\"Cantidad de Registros con cero en Fare: \",datos['Fare'].isin([0]).sum())\n",
    "print(\"Cantidad de Registros con cero en Embarked: \",datos['Embarked'].isin([0]).sum())"
   ]
  },
  {
   "cell_type": "markdown",
   "id": "709d8018",
   "metadata": {},
   "source": [
    "Encuentro registros con datos en 0 en Survived y Fare , para este caso no  se eliminaran los registros que poseen\n",
    "0 en Fare puesto que pueden ser invitados a la embarcacion. No se omiten los 0 de Survived ya que este dato representa 0 si no sobrevivió. "
   ]
  },
  {
   "cell_type": "code",
   "execution_count": 80,
   "id": "fdc2b2e4",
   "metadata": {},
   "outputs": [
    {
     "name": "stdout",
     "output_type": "stream",
     "text": [
      "La cantidad de registros en el DataFrame es: 889\n"
     ]
    }
   ],
   "source": [
    "cantidad_registros = datos.shape[0]\n",
    "\n",
    "print(\"La cantidad de registros en el DataFrame es:\", cantidad_registros)"
   ]
  },
  {
   "cell_type": "code",
   "execution_count": 89,
   "id": "a6c9e36e",
   "metadata": {},
   "outputs": [
    {
     "name": "stdout",
     "output_type": "stream",
     "text": [
      "<class 'pandas.core.frame.DataFrame'>\n",
      "Int64Index: 889 entries, 0 to 890\n",
      "Data columns (total 11 columns):\n",
      " #   Column       Non-Null Count  Dtype  \n",
      "---  ------       --------------  -----  \n",
      " 0   PassengerId  889 non-null    int64  \n",
      " 1   Survived     889 non-null    int64  \n",
      " 2   Pclass       889 non-null    int64  \n",
      " 3   Name         889 non-null    object \n",
      " 4   Sex          889 non-null    object \n",
      " 5   Age          889 non-null    float64\n",
      " 6   SibSp        889 non-null    int64  \n",
      " 7   Parch        889 non-null    int64  \n",
      " 8   Ticket       889 non-null    object \n",
      " 9   Fare         889 non-null    float64\n",
      " 10  Embarked     889 non-null    object \n",
      "dtypes: float64(2), int64(5), object(4)\n",
      "memory usage: 83.3+ KB\n"
     ]
    }
   ],
   "source": [
    "#Revision del tipo de datos y datos faltantes\n",
    "datos.info()"
   ]
  },
  {
   "cell_type": "code",
   "execution_count": 90,
   "id": "b7a75c0c",
   "metadata": {},
   "outputs": [
    {
     "data": {
      "text/plain": [
       "0    549\n",
       "1    340\n",
       "Name: Survived, dtype: int64"
      ]
     },
     "execution_count": 90,
     "metadata": {},
     "output_type": "execute_result"
    }
   ],
   "source": [
    "# Total de personas sobrevivientes\n",
    "\n",
    "datos['Survived'].value_counts()"
   ]
  },
  {
   "cell_type": "markdown",
   "id": "052d97cc",
   "metadata": {},
   "source": [
    "Para construir el modelo se eliminaran las columnas que no sean numericas en caso que no se puedan pasar referencias ( Name , Ticket)\n",
    "Para los campos que se pueden tener referencias se realizaran las equivalencias \n",
    "Sex ( male = 0 , female = 1) ,  Embarked ( S = 0 , c = 1 , Q = 2 ) "
   ]
  },
  {
   "cell_type": "code",
   "execution_count": 95,
   "id": "9bc2d8ad",
   "metadata": {},
   "outputs": [],
   "source": [
    "datos = datos.drop(columns=['Name', 'Ticket'])\n",
    "datos['Sex'] = datos['Sex'].map({'male': 0, 'female': 1})\n",
    "datos['Embarked'] = datos['Embarked'].map({'S': 0, 'C': 1, 'Q': 2})"
   ]
  },
  {
   "cell_type": "code",
   "execution_count": 96,
   "id": "177449f5",
   "metadata": {},
   "outputs": [],
   "source": [
    "from sklearn.model_selection import train_test_split\n",
    "\n",
    "# Porcentaje de datos para entrenamiento (train) = 75%, y para prueba (test) = 25%\n",
    "# Se crean variables X y Y para almacenar la información del entrenamiento\n",
    "X = datos.drop('Survived', axis=1)  # Se cargan los datos de train sin los datos de la columna Survived\n",
    "Y = datos['Survived']  # Se cargan los datos de train con los datos de la la columna Survived\n",
    "\n",
    "# La función train_test_split crea una división de un conjunto de datos en dos bloques uno de entrenamiento y otro de prueba (train and test)\n",
    "X_train, X_test, Y_train, Y_test = train_test_split(X, Y, test_size=0.25, random_state=0)\n"
   ]
  },
  {
   "cell_type": "code",
   "execution_count": 97,
   "id": "8442618d",
   "metadata": {},
   "outputs": [
    {
     "name": "stdout",
     "output_type": "stream",
     "text": [
      "     PassengerId  Pclass  Sex        Age  SibSp  Parch      Fare  Embarked\n",
      "318          319       1    1  31.000000      0      2  164.8667         0\n",
      "705          706       2    0  39.000000      0      0   26.0000         0\n",
      "347          348       3    1  27.745174      1      0   16.1000         0\n",
      "490          491       3    0  30.726645      1      0   19.9667         0\n",
      "441          442       3    0  20.000000      0      0    9.5000         0\n",
      "..           ...     ...  ...        ...    ...    ...       ...       ...\n",
      "837          838       3    0  30.726645      0      0    8.0500         0\n",
      "193          194       2    0   3.000000      1      1   26.0000         0\n",
      "630          631       1    0  80.000000      0      0   30.0000         0\n",
      "560          561       3    0  30.726645      0      0    7.7500         2\n",
      "685          686       2    0  25.000000      1      2   41.5792         1\n",
      "\n",
      "[666 rows x 8 columns]\n"
     ]
    }
   ],
   "source": [
    "print (X_train)"
   ]
  },
  {
   "cell_type": "code",
   "execution_count": 98,
   "id": "e89ba7c1",
   "metadata": {
    "scrolled": true
   },
   "outputs": [
    {
     "name": "stdout",
     "output_type": "stream",
     "text": [
      "318    1\n",
      "705    0\n",
      "347    1\n",
      "490    0\n",
      "441    0\n",
      "      ..\n",
      "837    0\n",
      "193    1\n",
      "630    1\n",
      "560    0\n",
      "685    0\n",
      "Name: Survived, Length: 666, dtype: int64\n"
     ]
    }
   ],
   "source": [
    "print (Y_train)"
   ]
  },
  {
   "cell_type": "code",
   "execution_count": 99,
   "id": "815ed96a",
   "metadata": {},
   "outputs": [],
   "source": [
    "# Construir el modelo de regresión logística \n",
    "\n",
    "modelo_regresion = LogisticRegression(solver = \"liblinear\") # liblinear es una libreria para resolver problemas lineales de clasificación y regresión\n",
    "modelo_regresion.fit (X_train , Y_train)   \n",
    "\n",
    "# Crea el modelo de prediccion\n",
    " # la funPrediccion = modelo_regresion.predict(X_test)ción predict predice los valores a partir del conjunto de datos de validación"
   ]
  },
  {
   "cell_type": "code",
   "execution_count": 26,
   "id": "2e24079f",
   "metadata": {},
   "outputs": [
    {
     "name": "stdout",
     "output_type": "stream",
     "text": [
      "111    0\n",
      "150    0\n",
      "12     1\n",
      "216    1\n",
      "139    0\n",
      "      ..\n",
      "27     0\n",
      "218    0\n",
      "256    0\n",
      "37     0\n",
      "92     0\n",
      "Name: condition, Length: 75, dtype: int64\n"
     ]
    }
   ],
   "source": [
    "print(Y_test)"
   ]
  },
  {
   "cell_type": "code",
   "execution_count": 28,
   "id": "94c1c12e",
   "metadata": {},
   "outputs": [
    {
     "name": "stdout",
     "output_type": "stream",
     "text": [
      "[0 0 0 1 0 1 1 1 1 1 0 0 1 1 0 1 0 1 1 0 0 1 1 1 0 0 1 1 1 0 0 0 0 1 1 1 0\n",
      " 1 0 0 1 0 1 0 1 0 1 1 1 0 0 0 0 1 0 1 1 1 0 0 1 0 1 0 1 0 0 0 0 1 0 0 1 0\n",
      " 0]\n"
     ]
    }
   ],
   "source": [
    "print (Prediccion)"
   ]
  },
  {
   "cell_type": "code",
   "execution_count": 104,
   "id": "db8cfd77",
   "metadata": {},
   "outputs": [
    {
     "name": "stdout",
     "output_type": "stream",
     "text": [
      "Número de 0's: 142\n",
      "Número de 1's: 81\n"
     ]
    }
   ],
   "source": [
    "\n",
    "print(\"Número de 0's:\", np.sum(Prediccion == 0))\n",
    "print(\"Número de 1's:\", np.sum(Prediccion == 1))"
   ]
  },
  {
   "cell_type": "code",
   "execution_count": 105,
   "id": "2480ec82",
   "metadata": {},
   "outputs": [
    {
     "name": "stdout",
     "output_type": "stream",
     "text": [
      "              precision    recall  f1-score   support\n",
      "\n",
      "           0       0.77      0.83      0.80       132\n",
      "           1       0.73      0.65      0.69        91\n",
      "\n",
      "    accuracy                           0.76       223\n",
      "   macro avg       0.75      0.74      0.74       223\n",
      "weighted avg       0.76      0.76      0.76       223\n",
      "\n"
     ]
    }
   ],
   "source": [
    "# Desempeño del modelo de regresión\n",
    "\n",
    "print(classification_report(Y_test,Prediccion))"
   ]
  },
  {
   "cell_type": "markdown",
   "id": "b865f35e",
   "metadata": {},
   "source": [
    "Segun el desempeño se puede ver lo siguiente:\n",
    "    Precision: ( Proporcion de verdaderos positivos )    0= No sobrevivio : 0.77   ( 77% de efectividad de la predicion para \n",
    "   los pasajeros que no sobrevivieron) 1= No sobrevivio : 0.73 ( 73% en efectividad de la predicion para los pasajeros \n",
    "   que sobrevivieron).\n",
    "   \n",
    "   Recall : ( Sensibilidad o tasa de verdaderos positivos) el modelo identificó correctamente el 83 %  de los ejemplos de Survived = 0 ( No sobrevivio) y el 65 % de los ejemplos de  Survived = 1 . \n",
    "   F1-Score = (Media armonica de la precision y el recall)  medida util cuando las clases se encuentran desbalanceadas  0= 0.80    1 = 0.69\n",
    "   Acurrancy : ( Exactitud)  La precision globlal del modelo indica que el 76% de las predicciones fueron correctas\n",
    "   \n",
    "\n",
    "Como conclusiones tenemos : \n",
    "\n",
    "La exactitud generl del modelo es de 76%  que aunque es un desempeño aceptable se tiene un margen de mejora.\n",
    "El modelo ha tenido un mejor desempeño para la clase 0 (No sobreviviente) con una precicion de 0.77 y recall de 0.83 .\n"
   ]
  },
  {
   "cell_type": "markdown",
   "id": "35fe1c72",
   "metadata": {},
   "source": [
    "Con la matriz de confucion podemos visualizar la prediccion frente a la verdad ."
   ]
  },
  {
   "cell_type": "code",
   "execution_count": 106,
   "id": "365f90ee",
   "metadata": {},
   "outputs": [
    {
     "data": {
      "text/plain": [
       "<sklearn.metrics._plot.confusion_matrix.ConfusionMatrixDisplay at 0x236d10deb20>"
      ]
     },
     "execution_count": 106,
     "metadata": {},
     "output_type": "execute_result"
    },
    {
     "data": {
      "image/png": "[encoded data removed]",
      "text/plain": [
       "<Figure size 432x288 with 2 Axes>"
      ]
     },
     "metadata": {
      "needs_background": "light"
     },
     "output_type": "display_data"
    }
   ],
   "source": [
    "#Matrix de Confusión del modelo\n",
    "\n",
    "cm=confusion_matrix(Y_test,Prediccion)\n",
    "disp=metrics.ConfusionMatrixDisplay(confusion_matrix=cm)\n",
    "disp.plot()"
   ]
  },
  {
   "cell_type": "code",
   "execution_count": null,
   "id": "29d47d0f",
   "metadata": {},
   "outputs": [],
   "source": [
    "Se puede observar que mientras el porcentaje de prediccion en los Survived = 0  fue de 110 aciertos contra 32 errores  \n",
    "para los Survived= 1 fue 59 aciertos contra 22 errores  . En sintesis el modelo puede mejorar en la clase Survived = 1."
   ]
  }
 ],
 "metadata": {
  "kernelspec": {
   "display_name": "Python 3 (ipykernel)",
   "language": "python",
   "name": "python3"
  },
  "language_info": {
   "codemirror_mode": {
    "name": "ipython",
    "version": 3
   },
   "file_extension": ".py",
   "mimetype": "text/x-python",
   "name": "python",
   "nbconvert_exporter": "python",
   "pygments_lexer": "ipython3",
   "version": "3.9.7"
  }
 },
 "nbformat": 4,
 "nbformat_minor": 5
}
